{
 "cells": [
  {
   "cell_type": "code",
   "execution_count": 1,
   "metadata": {},
   "outputs": [],
   "source": [
    "import numpy as np\n",
    "import pandas as pd\n",
    "import statsmodels\n",
    "from statsmodels.tsa.stattools import coint\n",
    "import matplotlib.pyplot as plt"
   ]
  },
  {
   "cell_type": "markdown",
   "metadata": {},
   "source": [
    "# Cointegration"
   ]
  },
  {
   "cell_type": "code",
   "execution_count": 2,
   "metadata": {},
   "outputs": [],
   "source": [
    "#function to find cointegrated pairs\n",
    "def find_cointegrated_pairs(data):\n",
    "    n = data.shape[1]\n",
    "    score_matrix = np.zeros((n, n))\n",
    "    pvalue_matrix = np.ones((n, n))\n",
    "    keys = data.keys()\n",
    "    pairs = []\n",
    "    for i in range(n):\n",
    "        for j in range(i+1, n):\n",
    "            S1 = data[keys[i]]\n",
    "            S2 = data[keys[j]]\n",
    "            result = coint(S1, S2)\n",
    "            score = result[0]\n",
    "            pvalue = result[1]\n",
    "            score_matrix[i, j] = score\n",
    "            pvalue_matrix[i, j] = pvalue\n",
    "            if pvalue < 0.05:\n",
    "                pairs.append((keys[i], keys[j]))\n",
    "    return score_matrix, pvalue_matrix, pairs"
   ]
  },
  {
   "cell_type": "code",
   "execution_count": 3,
   "metadata": {},
   "outputs": [],
   "source": [
    "import datetime as dt\n",
    "import pandas_datareader.data as web\n",
    "\n",
    "ls_key = 'Adj Close'\n",
    "start= dt.datetime(2007,1,9)\n",
    "end= dt.datetime(2017,1,30)\n",
    "\n",
    "stocks = ['SPY','AAPL','ADBE','SYMC','EBAY','MSFT','QCOM',\n",
    "                 'HPQ','JNPR','AMD','IBM']\n",
    "\n",
    "df=web.DataReader(stocks,'yahoo',start,end)\n",
    "cleanData = df[ls_key]"
   ]
  },
  {
   "cell_type": "code",
   "execution_count": 4,
   "metadata": {},
   "outputs": [
    {
     "data": {
      "text/html": [
       "<div>\n",
       "<style scoped>\n",
       "    .dataframe tbody tr th:only-of-type {\n",
       "        vertical-align: middle;\n",
       "    }\n",
       "\n",
       "    .dataframe tbody tr th {\n",
       "        vertical-align: top;\n",
       "    }\n",
       "\n",
       "    .dataframe thead th {\n",
       "        text-align: right;\n",
       "    }\n",
       "</style>\n",
       "<table border=\"1\" class=\"dataframe\">\n",
       "  <thead>\n",
       "    <tr style=\"text-align: right;\">\n",
       "      <th>Symbols</th>\n",
       "      <th>AAPL</th>\n",
       "      <th>ADBE</th>\n",
       "      <th>AMD</th>\n",
       "      <th>EBAY</th>\n",
       "      <th>HPQ</th>\n",
       "      <th>IBM</th>\n",
       "      <th>JNPR</th>\n",
       "      <th>MSFT</th>\n",
       "      <th>QCOM</th>\n",
       "      <th>SPY</th>\n",
       "      <th>SYMC</th>\n",
       "    </tr>\n",
       "    <tr>\n",
       "      <th>Date</th>\n",
       "      <th></th>\n",
       "      <th></th>\n",
       "      <th></th>\n",
       "      <th></th>\n",
       "      <th></th>\n",
       "      <th></th>\n",
       "      <th></th>\n",
       "      <th></th>\n",
       "      <th></th>\n",
       "      <th></th>\n",
       "      <th></th>\n",
       "    </tr>\n",
       "  </thead>\n",
       "  <tbody>\n",
       "    <tr>\n",
       "      <th>2007-01-09</th>\n",
       "      <td>8.855811</td>\n",
       "      <td>39.630001</td>\n",
       "      <td>19.650000</td>\n",
       "      <td>12.521044</td>\n",
       "      <td>12.939446</td>\n",
       "      <td>72.974365</td>\n",
       "      <td>18.512600</td>\n",
       "      <td>22.650431</td>\n",
       "      <td>28.571934</td>\n",
       "      <td>110.930107</td>\n",
       "      <td>15.405072</td>\n",
       "    </tr>\n",
       "    <tr>\n",
       "      <th>2007-01-10</th>\n",
       "      <td>9.279611</td>\n",
       "      <td>39.220001</td>\n",
       "      <td>20.010000</td>\n",
       "      <td>12.331650</td>\n",
       "      <td>12.939446</td>\n",
       "      <td>72.113838</td>\n",
       "      <td>18.715630</td>\n",
       "      <td>22.423624</td>\n",
       "      <td>29.108023</td>\n",
       "      <td>111.299667</td>\n",
       "      <td>15.326508</td>\n",
       "    </tr>\n",
       "    <tr>\n",
       "      <th>2007-01-11</th>\n",
       "      <td>9.164813</td>\n",
       "      <td>39.880001</td>\n",
       "      <td>20.180000</td>\n",
       "      <td>12.723064</td>\n",
       "      <td>13.074358</td>\n",
       "      <td>71.938866</td>\n",
       "      <td>19.075546</td>\n",
       "      <td>23.209890</td>\n",
       "      <td>29.810244</td>\n",
       "      <td>111.787224</td>\n",
       "      <td>15.233668</td>\n",
       "    </tr>\n",
       "    <tr>\n",
       "      <th>2007-01-12</th>\n",
       "      <td>9.051928</td>\n",
       "      <td>39.959999</td>\n",
       "      <td>18.260000</td>\n",
       "      <td>12.626263</td>\n",
       "      <td>13.347250</td>\n",
       "      <td>72.441994</td>\n",
       "      <td>18.992487</td>\n",
       "      <td>23.595461</td>\n",
       "      <td>29.915955</td>\n",
       "      <td>112.636490</td>\n",
       "      <td>14.626607</td>\n",
       "    </tr>\n",
       "    <tr>\n",
       "      <th>2007-01-16</th>\n",
       "      <td>9.289178</td>\n",
       "      <td>40.049999</td>\n",
       "      <td>18.129999</td>\n",
       "      <td>12.643098</td>\n",
       "      <td>13.246067</td>\n",
       "      <td>73.521294</td>\n",
       "      <td>19.167837</td>\n",
       "      <td>23.557657</td>\n",
       "      <td>29.802694</td>\n",
       "      <td>112.416328</td>\n",
       "      <td>12.705437</td>\n",
       "    </tr>\n",
       "  </tbody>\n",
       "</table>\n",
       "</div>"
      ],
      "text/plain": [
       "Symbols         AAPL       ADBE        AMD       EBAY        HPQ        IBM  \\\n",
       "Date                                                                          \n",
       "2007-01-09  8.855811  39.630001  19.650000  12.521044  12.939446  72.974365   \n",
       "2007-01-10  9.279611  39.220001  20.010000  12.331650  12.939446  72.113838   \n",
       "2007-01-11  9.164813  39.880001  20.180000  12.723064  13.074358  71.938866   \n",
       "2007-01-12  9.051928  39.959999  18.260000  12.626263  13.347250  72.441994   \n",
       "2007-01-16  9.289178  40.049999  18.129999  12.643098  13.246067  73.521294   \n",
       "\n",
       "Symbols          JNPR       MSFT       QCOM         SPY       SYMC  \n",
       "Date                                                                \n",
       "2007-01-09  18.512600  22.650431  28.571934  110.930107  15.405072  \n",
       "2007-01-10  18.715630  22.423624  29.108023  111.299667  15.326508  \n",
       "2007-01-11  19.075546  23.209890  29.810244  111.787224  15.233668  \n",
       "2007-01-12  18.992487  23.595461  29.915955  112.636490  14.626607  \n",
       "2007-01-16  19.167837  23.557657  29.802694  112.416328  12.705437  "
      ]
     },
     "execution_count": 4,
     "metadata": {},
     "output_type": "execute_result"
    }
   ],
   "source": [
    "cleanData.head()"
   ]
  },
  {
   "cell_type": "code",
   "execution_count": 5,
   "metadata": {},
   "outputs": [
    {
     "data": {
      "image/png": "[encoded data removed]",
      "text/plain": [
       "<Figure size 432x288 with 2 Axes>"
      ]
     },
     "metadata": {
      "needs_background": "light"
     },
     "output_type": "display_data"
    },
    {
     "name": "stdout",
     "output_type": "stream",
     "text": [
      "[('ADBE', 'MSFT'), ('AMD', 'HPQ'), ('AMD', 'JNPR'), ('EBAY', 'SPY')]\n"
     ]
    }
   ],
   "source": [
    "#HeatMap shows level of cointegration\n",
    "#print out cointegrated pairs, i.e. p-values <.05\n",
    "\n",
    "scores, pvalues, pairs = find_cointegrated_pairs(cleanData)\n",
    "import seaborn\n",
    "m = [0,0.2,0.4,0.6,0.8,1]\n",
    "seaborn.heatmap(pvalues, xticklabels=stocks, \n",
    "                yticklabels=stocks, cmap='RdYlGn_r' \n",
    "                , mask = (pvalues >= 0.98)\n",
    "                )\n",
    "plt.show()\n",
    "print(pairs)"
   ]
  }
 ],
 "metadata": {
  "kernelspec": {
   "display_name": "Python 3",
   "language": "python",
   "name": "python3"
  },
  "language_info": {
   "codemirror_mode": {
    "name": "ipython",
    "version": 3
   },
   "file_extension": ".py",
   "mimetype": "text/x-python",
   "name": "python",
   "nbconvert_exporter": "python",
   "pygments_lexer": "ipython3",
   "version": "3.6.6"
  }
 },
 "nbformat": 4,
 "nbformat_minor": 2
}
