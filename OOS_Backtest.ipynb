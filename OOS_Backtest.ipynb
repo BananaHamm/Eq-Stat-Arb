{
 "cells": [
  {
   "cell_type": "code",
   "execution_count": 1,
   "metadata": {},
   "outputs": [],
   "source": [
    "import numpy as np\n",
    "import pandas as pd\n",
    "\n",
    "import matplotlib as mpl\n",
    "\n",
    "from pykalman import KalmanFilter\n",
    "from datetime import datetime\n",
    "from numpy import log, polyfit, sqrt, std, subtract\n",
    "import statsmodels\n",
    "import math\n",
    "import statsmodels.tsa.stattools as ts\n",
    "from statsmodels.tsa.stattools import coint\n",
    "import statsmodels.api as sm\n",
    "import matplotlib.pyplot as plt\n",
    "import seaborn as sns\n",
    "import scipy\n",
    "from scipy.stats import norm\n"
   ]
  },
  {
   "cell_type": "code",
   "execution_count": 2,
   "metadata": {},
   "outputs": [],
   "source": [
    "#function to find cointegrated pairs\n",
    "def find_cointegrated_pairs(data, critial_level = 0.01):\n",
    "    n = data.shape[1]\n",
    "    score_matrix = np.zeros((n, n))\n",
    "    pvalue_matrix = np.ones((n, n))\n",
    "    keys = data.keys()\n",
    "    pairs = []\n",
    "    for i in range(n):\n",
    "        for j in range(i+1, n):\n",
    "            S1 = data[keys[i]]\n",
    "            S2 = data[keys[j]]\n",
    "            result = coint(S1, S2)\n",
    "            score = result[0]\n",
    "            pvalue = result[1]\n",
    "            score_matrix[i, j] = score\n",
    "            pvalue_matrix[i, j] = pvalue\n",
    "            if pvalue < critial_level:\n",
    "                pairs.append((keys[i], keys[j]))\n",
    "    return score_matrix, pvalue_matrix, pairs"
   ]
  },
  {
   "cell_type": "code",
   "execution_count": 3,
   "metadata": {},
   "outputs": [],
   "source": [
    "def KalmanFilterAverage(x):\n",
    "    \n",
    "  # Construct a Kalman filter\n",
    "    from pykalman import KalmanFilter\n",
    "    kf = KalmanFilter(transition_matrices = [1],\n",
    "     observation_matrices = [1],\n",
    "     initial_state_mean = 0,\n",
    "     initial_state_covariance = 1,\n",
    "     observation_covariance=1,\n",
    "     transition_covariance=.01)\n",
    "    \n",
    "    state_means, _ = kf.filter(x.values)\n",
    "    state_means = pd.Series(state_means.flatten(), index=x.index)\n",
    "    return state_means\n",
    "\n",
    "  \n",
    "\n",
    "# Kalman filter regression\n",
    "def KalmanFilterRegression(x,y):\n",
    "    delta = 1e-3\n",
    "    trans_cov = delta / (1 - delta) * np.eye(2) # How much random walk wiggles\n",
    "    obs_mat = np.expand_dims(np.vstack([[x], [np.ones(len(x))]]).T, axis=1)\n",
    "\n",
    "    kf = KalmanFilter(n_dim_obs=1, n_dim_state=2, # y is 1-dimensional, (alpha, beta) is 2-dimensional\n",
    "     initial_state_mean=[0,0],\n",
    "     initial_state_covariance=np.ones((2, 2)),\n",
    "     transition_matrices=np.eye(2),\n",
    "     observation_matrices=obs_mat,\n",
    "     observation_covariance=2,\n",
    "     transition_covariance=trans_cov)\n",
    "\n",
    "    # Use the observations y to get running estimates and errors for the state parameters\n",
    "    state_means, state_covs = kf.filter(y.values)\n",
    "    return state_means"
   ]
  },
  {
   "cell_type": "code",
   "execution_count": 4,
   "metadata": {},
   "outputs": [],
   "source": [
    "def half_life(spread):\n",
    "    spread_lag = spread.shift(1)\n",
    "    spread_lag.iloc[0] = spread_lag.iloc[1]\n",
    "    spread_ret = spread - spread_lag\n",
    "    spread_ret.iloc[0] = spread_ret.iloc[1]\n",
    "    spread_lag2 = sm.add_constant(spread_lag)\n",
    "    model = sm.OLS(spread_ret,spread_lag2)\n",
    "    res = model.fit()\n",
    "    halflife = int(round(-np.log(2) / res.params[1],0))\n",
    "\n",
    "    if halflife <= 0:\n",
    "        halflife = 1\n",
    "    return halflife"
   ]
  },
  {
   "cell_type": "code",
   "execution_count": 5,
   "metadata": {},
   "outputs": [
    {
     "data": {
      "text/html": [
       "<div>\n",
       "<style scoped>\n",
       "    .dataframe tbody tr th:only-of-type {\n",
       "        vertical-align: middle;\n",
       "    }\n",
       "\n",
       "    .dataframe tbody tr th {\n",
       "        vertical-align: top;\n",
       "    }\n",
       "\n",
       "    .dataframe thead th {\n",
       "        text-align: right;\n",
       "    }\n",
       "</style>\n",
       "<table border=\"1\" class=\"dataframe\">\n",
       "  <thead>\n",
       "    <tr style=\"text-align: right;\">\n",
       "      <th>Symbols</th>\n",
       "      <th>AAPL</th>\n",
       "      <th>BAC</th>\n",
       "      <th>BDX</th>\n",
       "      <th>BK</th>\n",
       "      <th>CAG</th>\n",
       "      <th>CLX</th>\n",
       "      <th>COST</th>\n",
       "      <th>CSCO</th>\n",
       "      <th>CSX</th>\n",
       "      <th>EBAY</th>\n",
       "      <th>...</th>\n",
       "      <th>MSFT</th>\n",
       "      <th>NOC</th>\n",
       "      <th>NVDA</th>\n",
       "      <th>OXY</th>\n",
       "      <th>PGR</th>\n",
       "      <th>SHW</th>\n",
       "      <th>SPY</th>\n",
       "      <th>T</th>\n",
       "      <th>VZ</th>\n",
       "      <th>WMB</th>\n",
       "    </tr>\n",
       "    <tr>\n",
       "      <th>Date</th>\n",
       "      <th></th>\n",
       "      <th></th>\n",
       "      <th></th>\n",
       "      <th></th>\n",
       "      <th></th>\n",
       "      <th></th>\n",
       "      <th></th>\n",
       "      <th></th>\n",
       "      <th></th>\n",
       "      <th></th>\n",
       "      <th></th>\n",
       "      <th></th>\n",
       "      <th></th>\n",
       "      <th></th>\n",
       "      <th></th>\n",
       "      <th></th>\n",
       "      <th></th>\n",
       "      <th></th>\n",
       "      <th></th>\n",
       "      <th></th>\n",
       "      <th></th>\n",
       "    </tr>\n",
       "  </thead>\n",
       "  <tbody>\n",
       "    <tr>\n",
       "      <th>2007-12-03</th>\n",
       "      <td>17.110838</td>\n",
       "      <td>37.902767</td>\n",
       "      <td>66.226135</td>\n",
       "      <td>38.655056</td>\n",
       "      <td>12.427400</td>\n",
       "      <td>46.313011</td>\n",
       "      <td>51.217243</td>\n",
       "      <td>22.106651</td>\n",
       "      <td>9.672471</td>\n",
       "      <td>13.867846</td>\n",
       "      <td>...</td>\n",
       "      <td>25.226402</td>\n",
       "      <td>55.086971</td>\n",
       "      <td>29.586885</td>\n",
       "      <td>47.957619</td>\n",
       "      <td>13.862777</td>\n",
       "      <td>52.682468</td>\n",
       "      <td>117.646500</td>\n",
       "      <td>21.056437</td>\n",
       "      <td>23.094385</td>\n",
       "      <td>17.772715</td>\n",
       "    </tr>\n",
       "    <tr>\n",
       "      <th>2007-12-04</th>\n",
       "      <td>17.201725</td>\n",
       "      <td>37.269264</td>\n",
       "      <td>65.500885</td>\n",
       "      <td>38.646992</td>\n",
       "      <td>12.266334</td>\n",
       "      <td>46.234211</td>\n",
       "      <td>52.923454</td>\n",
       "      <td>21.617529</td>\n",
       "      <td>9.672471</td>\n",
       "      <td>13.859427</td>\n",
       "      <td>...</td>\n",
       "      <td>25.111465</td>\n",
       "      <td>55.114174</td>\n",
       "      <td>29.559143</td>\n",
       "      <td>47.148666</td>\n",
       "      <td>13.900571</td>\n",
       "      <td>50.738487</td>\n",
       "      <td>116.594925</td>\n",
       "      <td>20.825405</td>\n",
       "      <td>23.474918</td>\n",
       "      <td>17.630978</td>\n",
       "    </tr>\n",
       "    <tr>\n",
       "      <th>2007-12-05</th>\n",
       "      <td>17.746065</td>\n",
       "      <td>38.250256</td>\n",
       "      <td>66.902504</td>\n",
       "      <td>38.961910</td>\n",
       "      <td>12.276396</td>\n",
       "      <td>46.384632</td>\n",
       "      <td>53.290722</td>\n",
       "      <td>22.034479</td>\n",
       "      <td>9.911180</td>\n",
       "      <td>14.036196</td>\n",
       "      <td>...</td>\n",
       "      <td>26.168947</td>\n",
       "      <td>55.005444</td>\n",
       "      <td>31.093962</td>\n",
       "      <td>47.787663</td>\n",
       "      <td>14.104656</td>\n",
       "      <td>51.765663</td>\n",
       "      <td>118.546677</td>\n",
       "      <td>21.133434</td>\n",
       "      <td>23.860815</td>\n",
       "      <td>17.772715</td>\n",
       "    </tr>\n",
       "    <tr>\n",
       "      <th>2007-12-06</th>\n",
       "      <td>18.171778</td>\n",
       "      <td>38.867599</td>\n",
       "      <td>66.951408</td>\n",
       "      <td>39.979366</td>\n",
       "      <td>13.051538</td>\n",
       "      <td>46.492081</td>\n",
       "      <td>54.193550</td>\n",
       "      <td>22.283056</td>\n",
       "      <td>10.224782</td>\n",
       "      <td>14.212963</td>\n",
       "      <td>...</td>\n",
       "      <td>26.475471</td>\n",
       "      <td>56.153805</td>\n",
       "      <td>31.722673</td>\n",
       "      <td>49.494053</td>\n",
       "      <td>14.611095</td>\n",
       "      <td>53.327625</td>\n",
       "      <td>120.243462</td>\n",
       "      <td>21.353462</td>\n",
       "      <td>23.807220</td>\n",
       "      <td>17.954945</td>\n",
       "    </tr>\n",
       "    <tr>\n",
       "      <th>2007-12-07</th>\n",
       "      <td>18.587925</td>\n",
       "      <td>38.368645</td>\n",
       "      <td>67.375145</td>\n",
       "      <td>39.535240</td>\n",
       "      <td>13.046501</td>\n",
       "      <td>46.714100</td>\n",
       "      <td>54.958687</td>\n",
       "      <td>22.010422</td>\n",
       "      <td>10.245845</td>\n",
       "      <td>14.196128</td>\n",
       "      <td>...</td>\n",
       "      <td>26.460144</td>\n",
       "      <td>56.459564</td>\n",
       "      <td>31.325106</td>\n",
       "      <td>49.330303</td>\n",
       "      <td>14.626211</td>\n",
       "      <td>52.826778</td>\n",
       "      <td>120.219589</td>\n",
       "      <td>21.160942</td>\n",
       "      <td>24.278858</td>\n",
       "      <td>18.005569</td>\n",
       "    </tr>\n",
       "  </tbody>\n",
       "</table>\n",
       "<p>5 rows × 30 columns</p>\n",
       "</div>"
      ],
      "text/plain": [
       "Symbols          AAPL        BAC        BDX         BK        CAG        CLX  \\\n",
       "Date                                                                           \n",
       "2007-12-03  17.110838  37.902767  66.226135  38.655056  12.427400  46.313011   \n",
       "2007-12-04  17.201725  37.269264  65.500885  38.646992  12.266334  46.234211   \n",
       "2007-12-05  17.746065  38.250256  66.902504  38.961910  12.276396  46.384632   \n",
       "2007-12-06  18.171778  38.867599  66.951408  39.979366  13.051538  46.492081   \n",
       "2007-12-07  18.587925  38.368645  67.375145  39.535240  13.046501  46.714100   \n",
       "\n",
       "Symbols          COST       CSCO        CSX       EBAY    ...           MSFT  \\\n",
       "Date                                                      ...                  \n",
       "2007-12-03  51.217243  22.106651   9.672471  13.867846    ...      25.226402   \n",
       "2007-12-04  52.923454  21.617529   9.672471  13.859427    ...      25.111465   \n",
       "2007-12-05  53.290722  22.034479   9.911180  14.036196    ...      26.168947   \n",
       "2007-12-06  54.193550  22.283056  10.224782  14.212963    ...      26.475471   \n",
       "2007-12-07  54.958687  22.010422  10.245845  14.196128    ...      26.460144   \n",
       "\n",
       "Symbols           NOC       NVDA        OXY        PGR        SHW         SPY  \\\n",
       "Date                                                                            \n",
       "2007-12-03  55.086971  29.586885  47.957619  13.862777  52.682468  117.646500   \n",
       "2007-12-04  55.114174  29.559143  47.148666  13.900571  50.738487  116.594925   \n",
       "2007-12-05  55.005444  31.093962  47.787663  14.104656  51.765663  118.546677   \n",
       "2007-12-06  56.153805  31.722673  49.494053  14.611095  53.327625  120.243462   \n",
       "2007-12-07  56.459564  31.325106  49.330303  14.626211  52.826778  120.219589   \n",
       "\n",
       "Symbols             T         VZ        WMB  \n",
       "Date                                         \n",
       "2007-12-03  21.056437  23.094385  17.772715  \n",
       "2007-12-04  20.825405  23.474918  17.630978  \n",
       "2007-12-05  21.133434  23.860815  17.772715  \n",
       "2007-12-06  21.353462  23.807220  17.954945  \n",
       "2007-12-07  21.160942  24.278858  18.005569  \n",
       "\n",
       "[5 rows x 30 columns]"
      ]
     },
     "execution_count": 5,
     "metadata": {},
     "output_type": "execute_result"
    }
   ],
   "source": [
    "import datetime as dt\n",
    "import pandas_datareader.data as web\n",
    "\n",
    "ls_key = 'Adj Close'\n",
    "start= dt.datetime(2007,12,1)\n",
    "end= dt.datetime(2017,12,1)\n",
    "\n",
    "stocks = ['SHW','CSX','CLX','GIS','BDX',\\\n",
    "          'JNJ','HPQ','WMB','JPM','BAC',\\\n",
    "          'AAPL','OXY','CAG','T','VZ',\\\n",
    "          'SPY','EBAY','MSFT','IBM','JNPR',\\\n",
    "          'NVDA','GS','PGR','BK','COST',\\\n",
    "          'CSCO','HD','LMT','NOC','GPS']\n",
    "\n",
    "df=web.DataReader(stocks,'yahoo',start,end)\n",
    "cleanData = df[ls_key]\n",
    "cleanData.head()\n",
    "#cleanData.dtypes"
   ]
  },
  {
   "cell_type": "code",
   "execution_count": 6,
   "metadata": {},
   "outputs": [
    {
     "data": {
      "image/png": "[encoded data removed]",
      "text/plain": [
       "<Figure size 720x720 with 2 Axes>"
      ]
     },
     "metadata": {},
     "output_type": "display_data"
    },
    {
     "name": "stdout",
     "output_type": "stream",
     "text": [
      "[('BDX', 'LMT'), ('BDX', 'NOC'), ('CLX', 'COST'), ('CLX', 'HD'), ('COST', 'SHW'), ('JPM', 'MSFT'), ('MSFT', 'NOC')]\n"
     ]
    }
   ],
   "source": [
    "#HeatMap shows level of cointegration\n",
    "#print out cointegrated pairs, i.e. p-values <.05\n",
    "\n",
    "scores, pvalues, pairs = find_cointegrated_pairs(cleanData)\n",
    "import seaborn\n",
    "m = [0,0.2,0.4,0.6,0.8,1]\n",
    "plt.figure(figsize=(10,10))\n",
    "seaborn.heatmap(pvalues, xticklabels=stocks, \n",
    "                yticklabels=stocks, cmap='RdYlGn_r' \n",
    "                , mask = (pvalues >= 0.99)\n",
    "                )\n",
    "plt.show()\n",
    "print(pairs)"
   ]
  },
  {
   "cell_type": "markdown",
   "metadata": {},
   "source": [
    "# OOS Trading with Kalman Filter"
   ]
  },
  {
   "cell_type": "code",
   "execution_count": 7,
   "metadata": {},
   "outputs": [],
   "source": [
    "def BID_ASK(series):\n",
    "    prices = pd.DataFrame(series)\n",
    "    daily_return = prices.pct_change(1) \n",
    "    Scov = statsmodels.tsa.stattools.acovf(daily_return,missing='drop',fft=True)\n",
    "    spread = np.zeros(len(Scov))\n",
    "    for i in range(0,len(Scov)):\n",
    "        if Scov[i]<0:\n",
    "            spread[i] = 2*math.sqrt(-Scov[i])\n",
    "        else:\n",
    "            spread[i] = 0\n",
    "    return spread"
   ]
  },
  {
   "cell_type": "code",
   "execution_count": 8,
   "metadata": {},
   "outputs": [],
   "source": [
    "def trade_OOS(x, y):\n",
    "    #############################################################\n",
    "    # INPUT:\n",
    "    # x: the price series of stock one\n",
    "    # y: the price series of stock two\n",
    "\n",
    "    # run regression to find hedge ratio and then create spread series\n",
    "    df1 = pd.DataFrame({'y':y,'x':x})\n",
    "    state_means = KalmanFilterRegression(KalmanFilterAverage(x),KalmanFilterAverage(y))\n",
    "\n",
    "    df1['hr'] = - state_means[:,0]\n",
    "    df1['spread'] = df1.y + (df1.x * df1.hr)\n",
    "\n",
    "    # calculate half life\n",
    "    halflife = half_life(df1['spread'])\n",
    "\n",
    "    # calculate z-score with window = half life period\n",
    "    meanSpread = df1.spread.rolling(window=halflife).mean()\n",
    "    stdSpread = df1.spread.rolling(window=halflife).std()\n",
    "    df1['zScore'] = (df1.spread-meanSpread)/stdSpread\n",
    "\n",
    "    \n",
    "   ##############################################################\n",
    "    # trading logic\n",
    "    entryZscore = 1\n",
    "    exitZscore = 0.5\n",
    "    \n",
    "    df1['BAx'] = np.zeros(len(x))\n",
    "    df1['BAy'] = np.zeros(len(y))\n",
    "    df1['BAx'].iloc[:len(x)-1]=BID_ASK(x)\n",
    "    df1['BAy'].iloc[:len(y)-1]=BID_ASK(y)\n",
    "    trans_cost = .0025\n",
    "\n",
    "\n",
    "    #set up num units long\n",
    "    df1['long entry'] = ((df1.zScore < - entryZscore) & ( df1.zScore.shift(1) > - entryZscore))\n",
    "    df1['long exit'] = ((df1.zScore > - exitZscore) & (df1.zScore.shift(1) < - exitZscore)) \n",
    "    df1['num units long'] = np.nan \n",
    "    df1.loc[df1['long entry'],'num units long'] = 1 * ((-1) * df1.zScore) \n",
    "    df1.loc[df1['long exit'],'num units long'] = 0 \n",
    "    df1['num units long'][0] = 0 \n",
    "    df1['num units long'] = df1['num units long'].fillna(method='pad') \n",
    "    \n",
    "    #set up num units short \n",
    "    df1['short entry'] = ((df1.zScore > entryZscore) & ( df1.zScore.shift(1) < entryZscore))\n",
    "    df1['short exit'] = ((df1.zScore < exitZscore) & (df1.zScore.shift(1) > exitZscore))\n",
    "    df1.loc[df1['short entry'],'num units short'] = -1 * df1.zScore\n",
    "    df1.loc[df1['short exit'],'num units short'] = 0\n",
    "    df1['num units short'][0] = 0\n",
    "    df1['num units short'] = df1['num units short'].fillna(method='pad')\n",
    "\n",
    "    df1['numUnits'] = df1['num units long'] + df1['num units short']\n",
    "    df1['spread pct ch'] = (df1['spread'] - df1['spread'].shift(1)) / (((df1['x']-df1['BAx']) * abs(df1['hr'])) + (df1['y']-df1['BAy']))\n",
    "    df1['port rets'] = (1-trans_cost) * df1['spread pct ch'] * df1['numUnits'].shift(1)\n",
    "\n",
    "    df1['cum rets'] = df1['port rets'].cumsum()\n",
    "    \n",
    "\n",
    "    ##############################################################\n",
    "    #  Compute Return Statistics\n",
    "    ##############################################################\n",
    "    \n",
    "    try:\n",
    "        sharpe = ((df1['port rets'].mean() / df1['port rets'].std()) * sqrt(252))\n",
    "    except ZeroDivisionError:\n",
    "        sharpe = 0.0\n",
    "    \n",
    "    #Aviod divided by 0 error, using 0.001 instead\n",
    "    start_val = 0.001\n",
    "    end_val = df1['cum rets'].iat[-1]\n",
    "\n",
    "    start_date = df1.iloc[0].name\n",
    "    end_date = df1.iloc[-1].name\n",
    "    days = (end_date - start_date).days\n",
    "    AnnRet = ((float(end_val) / float(start_val)) ** (252.0/days)) - 1\n",
    "    AnnVol = df1['port rets'].std() * sqrt(252)\n",
    "\n",
    "    ##############################################################\n",
    "\n",
    "\n",
    "    return df1['cum rets'], df1['port rets'], sharpe, AnnRet, AnnVol\n",
    "\n"
   ]
  },
  {
   "cell_type": "code",
   "execution_count": 9,
   "metadata": {},
   "outputs": [
    {
     "name": "stderr",
     "output_type": "stream",
     "text": [
      "/anaconda3/lib/python3.6/site-packages/ipykernel_launcher.py:41: SettingWithCopyWarning: \n",
      "A value is trying to be set on a copy of a slice from a DataFrame\n",
      "\n",
      "See the caveats in the documentation: http://pandas.pydata.org/pandas-docs/stable/indexing.html#indexing-view-versus-copy\n",
      "/anaconda3/lib/python3.6/site-packages/ipykernel_launcher.py:49: SettingWithCopyWarning: \n",
      "A value is trying to be set on a copy of a slice from a DataFrame\n",
      "\n",
      "See the caveats in the documentation: http://pandas.pydata.org/pandas-docs/stable/indexing.html#indexing-view-versus-copy\n"
     ]
    }
   ],
   "source": [
    "pnl_df = pd.DataFrame()\n",
    "port_df = pd.DataFrame()\n",
    "\n",
    "for i in range(0,len(pairs)):\n",
    "    cumPnL, portPnL, sharpe, AnnRet, AnnVol = trade_OOS(cleanData[pairs[i][0]].iloc[1763:],cleanData[pairs[i][1]].iloc[1763:])\n",
    "    pnl_df[i] = cumPnL\n",
    "    port_df[i] = portPnL\n",
    "\n",
    "pnl_df['Total'] = pnl_df.sum(axis=1)\n",
    "port_df['Total'] = port_df.sum(axis=1)"
   ]
  },
  {
   "cell_type": "code",
   "execution_count": 10,
   "metadata": {},
   "outputs": [
    {
     "data": {
      "image/png": "[encoded data removed]",
      "text/plain": [
       "<Figure size 720x720 with 1 Axes>"
      ]
     },
     "metadata": {},
     "output_type": "display_data"
    }
   ],
   "source": [
    "dates = pd.date_range(start='12/2/2014',end='12/1/2017',periods=756)\n",
    "\n",
    "plt.figure(figsize=(10,10))\n",
    "#plt.plot(dates,portPnL)\n",
    "plt.plot(dates,pnl_df)\n",
    "plt.title(\"Out of Sample Cumulative Return\")\n",
    "plt.legend(('Pair 1','Pair 2','Pair 3','Pair 4','Pair 5','Pair 6','Pair 7','Total Return'))\n",
    "plt.ylabel('Cumulative Return')\n",
    "plt.xlabel('Dates')\n",
    "plt.show()\n",
    "          "
   ]
  },
  {
   "cell_type": "markdown",
   "metadata": {},
   "source": [
    "# Return Statistics"
   ]
  },
  {
   "cell_type": "markdown",
   "metadata": {},
   "source": [
    "#### Sharpe Ratio"
   ]
  },
  {
   "cell_type": "code",
   "execution_count": 11,
   "metadata": {},
   "outputs": [
    {
     "data": {
      "text/plain": [
       "1.7799268879806553"
      ]
     },
     "execution_count": 11,
     "metadata": {},
     "output_type": "execute_result"
    }
   ],
   "source": [
    "df_IR = pd.read_csv(\"/Users/sudan/Desktop/EQ Stat Arb/FedFundRate_Data.csv\")\n",
    "df_IR['Date']=pd.to_datetime(df_IR['Date'])\n",
    "df_IR.query(\"Date > '2014/12/01' \", inplace=True)\n",
    "df_IR=df_IR.replace('ND', np.nan).dropna()\n",
    "df_IR.set_index('Date',inplace=True)\n",
    "df_IR['RIFSPFF_N.D'] = (df_IR['RIFSPFF_N.D'].astype(float))/100\n",
    "#df_IR.head()\n",
    "sharpe=(pnl_df['Total'].mean()-df_IR['RIFSPFF_N.D'].mean()) / pnl_df['Total'].std()\n",
    "sharpe"
   ]
  },
  {
   "cell_type": "markdown",
   "metadata": {},
   "source": [
    "#### Mean Return"
   ]
  },
  {
   "cell_type": "code",
   "execution_count": 12,
   "metadata": {},
   "outputs": [
    {
     "data": {
      "text/plain": [
       "1.4890488108881503"
      ]
     },
     "execution_count": 12,
     "metadata": {},
     "output_type": "execute_result"
    }
   ],
   "source": [
    "pnl_df['Total'].mean()"
   ]
  },
  {
   "cell_type": "markdown",
   "metadata": {},
   "source": [
    "#### Annualized Return"
   ]
  },
  {
   "cell_type": "code",
   "execution_count": 13,
   "metadata": {},
   "outputs": [
    {
     "data": {
      "text/plain": [
       "0.5229386655189177"
      ]
     },
     "execution_count": 13,
     "metadata": {},
     "output_type": "execute_result"
    }
   ],
   "source": [
    "start_date = pnl_df.iloc[0].name\n",
    "end_date = pnl_df.iloc[-1].name\n",
    "days = (end_date - start_date).days\n",
    "AnnRet = (1+pnl_df['Total'].iloc[-1]) ** (365/days) - 1\n",
    "AnnRet"
   ]
  },
  {
   "cell_type": "markdown",
   "metadata": {},
   "source": [
    "#### Volatility"
   ]
  },
  {
   "cell_type": "code",
   "execution_count": 14,
   "metadata": {},
   "outputs": [
    {
     "data": {
      "text/plain": [
       "0.8338962506585479"
      ]
     },
     "execution_count": 14,
     "metadata": {},
     "output_type": "execute_result"
    }
   ],
   "source": [
    "pnl_df['Total'].std()"
   ]
  },
  {
   "cell_type": "markdown",
   "metadata": {},
   "source": [
    "#### Maximum Drawdown"
   ]
  },
  {
   "cell_type": "code",
   "execution_count": 15,
   "metadata": {},
   "outputs": [
    {
     "data": {
      "text/plain": [
       "(0.41330142439180717, 123.0)"
      ]
     },
     "execution_count": 15,
     "metadata": {},
     "output_type": "execute_result"
    }
   ],
   "source": [
    "def max_drawdowns(returns):\n",
    "    hwm = [0]\n",
    "    ret_idx = returns.index\n",
    "    drawdown = pd.Series(index = ret_idx)\n",
    "    duration = pd.Series(index = ret_idx)\n",
    "\n",
    "    for t in range(1, len(ret_idx)):\n",
    "        ret_hwm = max(hwm[t-1], returns[t])\n",
    "        hwm.append(ret_hwm)\n",
    "        drawdown[t]= hwm[t] - returns[t]\n",
    "        duration[t]= 0 if drawdown[t] == 0 else duration[t-1] + 1\n",
    "    return drawdown.max(), duration.max()\n",
    "\n",
    "\n",
    "max_drawdowns(pnl_df['Total'])"
   ]
  },
  {
   "cell_type": "markdown",
   "metadata": {},
   "source": [
    "#### Skewness"
   ]
  },
  {
   "cell_type": "code",
   "execution_count": 23,
   "metadata": {},
   "outputs": [
    {
     "data": {
      "text/plain": [
       "-0.2832062658923748"
      ]
     },
     "execution_count": 23,
     "metadata": {},
     "output_type": "execute_result"
    }
   ],
   "source": [
    "scipy.stats.skew(pnl_df['Total'])"
   ]
  },
  {
   "cell_type": "markdown",
   "metadata": {},
   "source": [
    "#### Kurtosis"
   ]
  },
  {
   "cell_type": "code",
   "execution_count": 24,
   "metadata": {},
   "outputs": [
    {
     "data": {
      "text/plain": [
       "-1.3758714688979752"
      ]
     },
     "execution_count": 24,
     "metadata": {},
     "output_type": "execute_result"
    }
   ],
   "source": [
    "scipy.stats.kurtosis(pnl_df['Total'])"
   ]
  },
  {
   "cell_type": "markdown",
   "metadata": {},
   "source": [
    "#### VaR"
   ]
  },
  {
   "cell_type": "code",
   "execution_count": 25,
   "metadata": {},
   "outputs": [
    {
     "data": {
      "text/plain": [
       "0.01630405100611597"
      ]
     },
     "execution_count": 25,
     "metadata": {},
     "output_type": "execute_result"
    }
   ],
   "source": [
    "def VaR(Returns, Confidence_Interval = 0.99):\n",
    "    Period_Interval = 5\n",
    "    VaR = pd.Series(index=Returns.index, name = 'VaR')\n",
    "    for i in range(0,len(Returns)-Period_Interval):\n",
    "        if i == 0: Data = Returns[-(Period_Interval):]\n",
    "        else: Data = Returns[-(Period_Interval+i):-i]\n",
    "        stdev = np.std(Data)\n",
    "        VaR[-i-1] = stdev*norm.ppf(Confidence_Interval)\n",
    "    return VaR\n",
    "\n",
    "VaR(pnl_df['Total'])[-1]"
   ]
  },
  {
   "cell_type": "code",
   "execution_count": null,
   "metadata": {},
   "outputs": [],
   "source": []
  }
 ],
 "metadata": {
  "kernelspec": {
   "display_name": "Python 3",
   "language": "python",
   "name": "python3"
  },
  "language_info": {
   "codemirror_mode": {
    "name": "ipython",
    "version": 3
   },
   "file_extension": ".py",
   "mimetype": "text/x-python",
   "name": "python",
   "nbconvert_exporter": "python",
   "pygments_lexer": "ipython3",
   "version": "3.6.5"
  }
 },
 "nbformat": 4,
 "nbformat_minor": 2
}
