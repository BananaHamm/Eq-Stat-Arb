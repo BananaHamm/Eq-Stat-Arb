{
 "cells": [
  {
   "cell_type": "code",
   "execution_count": 54,
   "metadata": {
    "collapsed": true
   },
   "outputs": [],
   "source": [
    "import numpy as np\n",
    "import pandas as pd\n",
    "import math\n",
    "from statsmodels.tsa.ar_model import AR"
   ]
  },
  {
   "cell_type": "code",
   "execution_count": 3,
   "metadata": {
    "collapsed": true
   },
   "outputs": [],
   "source": [
    "df = pd.read_excel(\"C:/Users/kz2329/Desktop/ts/BestPair_Distance Method_and_Cointegration Method.xlsx\")"
   ]
  },
  {
   "cell_type": "code",
   "execution_count": 4,
   "metadata": {
    "collapsed": false
   },
   "outputs": [
    {
     "data": {
      "text/html": [
       "<div>\n",
       "<table border=\"1\" class=\"dataframe\">\n",
       "  <thead>\n",
       "    <tr style=\"text-align: right;\">\n",
       "      <th></th>\n",
       "      <th>Date</th>\n",
       "      <th>MU</th>\n",
       "      <th>SWKS</th>\n",
       "      <th>MU_SWKS</th>\n",
       "    </tr>\n",
       "  </thead>\n",
       "  <tbody>\n",
       "    <tr>\n",
       "      <th>0</th>\n",
       "      <td>2000-01-03</td>\n",
       "      <td>37.97</td>\n",
       "      <td>29.58</td>\n",
       "      <td>19.541875</td>\n",
       "    </tr>\n",
       "    <tr>\n",
       "      <th>1</th>\n",
       "      <td>2000-01-04</td>\n",
       "      <td>36.50</td>\n",
       "      <td>27.84</td>\n",
       "      <td>19.155883</td>\n",
       "    </tr>\n",
       "    <tr>\n",
       "      <th>2</th>\n",
       "      <td>2000-01-05</td>\n",
       "      <td>36.38</td>\n",
       "      <td>28.56</td>\n",
       "      <td>18.587328</td>\n",
       "    </tr>\n",
       "    <tr>\n",
       "      <th>3</th>\n",
       "      <td>2000-01-06</td>\n",
       "      <td>37.00</td>\n",
       "      <td>25.78</td>\n",
       "      <td>20.939248</td>\n",
       "    </tr>\n",
       "    <tr>\n",
       "      <th>4</th>\n",
       "      <td>2000-01-07</td>\n",
       "      <td>35.25</td>\n",
       "      <td>28.43</td>\n",
       "      <td>17.538317</td>\n",
       "    </tr>\n",
       "  </tbody>\n",
       "</table>\n",
       "</div>"
      ],
      "text/plain": [
       "        Date     MU   SWKS    MU_SWKS\n",
       "0 2000-01-03  37.97  29.58  19.541875\n",
       "1 2000-01-04  36.50  27.84  19.155883\n",
       "2 2000-01-05  36.38  28.56  18.587328\n",
       "3 2000-01-06  37.00  25.78  20.939248\n",
       "4 2000-01-07  35.25  28.43  17.538317"
      ]
     },
     "execution_count": 4,
     "metadata": {},
     "output_type": "execute_result"
    }
   ],
   "source": [
    "df.head()"
   ]
  },
  {
   "cell_type": "code",
   "execution_count": 7,
   "metadata": {
    "collapsed": false
   },
   "outputs": [
    {
     "data": {
      "text/html": [
       "<div>\n",
       "<table border=\"1\" class=\"dataframe\">\n",
       "  <thead>\n",
       "    <tr style=\"text-align: right;\">\n",
       "      <th></th>\n",
       "      <th>Date</th>\n",
       "      <th>MU</th>\n",
       "      <th>SWKS</th>\n",
       "      <th>MU_SWKS</th>\n",
       "    </tr>\n",
       "  </thead>\n",
       "  <tbody>\n",
       "    <tr>\n",
       "      <th>4758</th>\n",
       "      <td>2018-11-29</td>\n",
       "      <td>37.91</td>\n",
       "      <td>71.23</td>\n",
       "      <td>-6.465771</td>\n",
       "    </tr>\n",
       "    <tr>\n",
       "      <th>4759</th>\n",
       "      <td>2018-11-30</td>\n",
       "      <td>38.56</td>\n",
       "      <td>72.77</td>\n",
       "      <td>-6.775180</td>\n",
       "    </tr>\n",
       "    <tr>\n",
       "      <th>4760</th>\n",
       "      <td>2018-12-03</td>\n",
       "      <td>40.03</td>\n",
       "      <td>73.46</td>\n",
       "      <td>-5.735045</td>\n",
       "    </tr>\n",
       "    <tr>\n",
       "      <th>4761</th>\n",
       "      <td>2018-12-04</td>\n",
       "      <td>36.88</td>\n",
       "      <td>70.76</td>\n",
       "      <td>-7.202965</td>\n",
       "    </tr>\n",
       "    <tr>\n",
       "      <th>4762</th>\n",
       "      <td>2018-12-06</td>\n",
       "      <td>37.67</td>\n",
       "      <td>70.61</td>\n",
       "      <td>-6.319516</td>\n",
       "    </tr>\n",
       "  </tbody>\n",
       "</table>\n",
       "</div>"
      ],
      "text/plain": [
       "           Date     MU   SWKS   MU_SWKS\n",
       "4758 2018-11-29  37.91  71.23 -6.465771\n",
       "4759 2018-11-30  38.56  72.77 -6.775180\n",
       "4760 2018-12-03  40.03  73.46 -5.735045\n",
       "4761 2018-12-04  36.88  70.76 -7.202965\n",
       "4762 2018-12-06  37.67  70.61 -6.319516"
      ]
     },
     "execution_count": 7,
     "metadata": {},
     "output_type": "execute_result"
    }
   ],
   "source": [
    "df.tail()"
   ]
  },
  {
   "cell_type": "code",
   "execution_count": 6,
   "metadata": {
    "collapsed": false
   },
   "outputs": [],
   "source": [
    "df['Date'] = pd.to_datetime(df['Date'])"
   ]
  },
  {
   "cell_type": "code",
   "execution_count": 20,
   "metadata": {
    "collapsed": false
   },
   "outputs": [],
   "source": [
    "ins = df.loc[(df['Date'] >= pd.datetime(2010,1,1)) & (df['Date'] < pd.datetime(2017,1,1))]\n",
    "outs = df.loc[(df['Date'] >= pd.datetime(2017,1,1)) & (df['Date'] < pd.datetime(2018,10,1))]\n",
    "y = ins['MU_SWKS'].values"
   ]
  },
  {
   "cell_type": "code",
   "execution_count": 76,
   "metadata": {
    "collapsed": false
   },
   "outputs": [],
   "source": [
    "def KalmanFilter(A, B, C2, D2, x0, R0, y1):\n",
    "    xm = A + B*x0\n",
    "    Rm = B**2 * R0 + C2\n",
    "    K = Rm / (Rm + D2)\n",
    "    x1 = xm + K * (y1 - xm)\n",
    "    R1 = D2 * K\n",
    "    return x1, R1, Rm, K"
   ]
  },
  {
   "cell_type": "code",
   "execution_count": 81,
   "metadata": {
    "collapsed": false
   },
   "outputs": [],
   "source": [
    "def param_update(A, B, C2, D2):\n",
    "    # Compute Smoothers, this is done by iterating conversely\n",
    "    n = y.shape[0] - 5    # Leave some backup space\n",
    "    x_kn = np.zeros(n+1)\n",
    "    sig_kn = np.zeros(n+1)\n",
    "    sig_k1kn = np.zeros(n+1)\n",
    "    x_kk = np.zeros(n+2)\n",
    "    sig_kk = np.zeros(n+2)\n",
    "    sig_kk_1 = np.zeros(n+2)\n",
    "    K = np.zeros(n+2)\n",
    "\n",
    "    xi = y[0]\n",
    "    Ri = D2\n",
    "\n",
    "    # Compute Kalman Filter values up until n+1, so we will have smoothers from 0 to n\n",
    "    for i in range(n+2):\n",
    "        if i == 0:\n",
    "            x_kk[i] = xi\n",
    "            sig_kk[i] = Ri\n",
    "        else:\n",
    "            xi, Ri, Rm, Ki = KalmanFilter(A, B, C2, D2, xi, Ri, y[i])\n",
    "            x_kk[i] = xi\n",
    "            sig_kk[i] = Ri\n",
    "            sig_kk_1[i] = Rm\n",
    "            K[i] = Ki\n",
    "\n",
    "    J = B*sig_kk[:n+1] / sig_kk_1[1:]\n",
    "    xkn = x_kk[n]\n",
    "    sigkn = sig_kk[n]\n",
    "    for i in range(n, -1, -1):\n",
    "        if i == n:\n",
    "            x_kn[i] = xkn\n",
    "            sig_kn[i] = sigkn\n",
    "            sig_k1kn[i] = B * (1 - K[n]) * sig_kk[n-1]\n",
    "        elif i == 0:\n",
    "            x_kn[i] = x_kk[i] + J[i] * (x_kn[i + 1] - (A + B * x_kk[i]))\n",
    "            sig_kn[i] = sig_kk[i] + J[i]**2 * (sig_kn[i+1] - sig_kk_1[i+1])\n",
    "        else:\n",
    "            x_kn[i] = x_kk[i] + J[i] * (x_kn[i + 1] - (A + B * x_kk[i]))\n",
    "            sig_kn[i] = sig_kk[i] + J[i]**2 * (sig_kn[i+1] - sig_kk_1[i+1])\n",
    "            sig_k1kn[i] = J[i-1] * sig_kk[i] + J[i] * J[i-1] * (sig_k1kn[i+1] - B * sig_kk[i])\n",
    "            \n",
    "    alpha = np.sum(sig_kn[:n] + np.square(x_kn[:n]))\n",
    "    beta = np.sum(sig_k1kn[1:] + x_kn[:n] * x_kn[1:])\n",
    "    gamma = np.sum(x_kn[1:])\n",
    "    delta = gamma - x_kk[n] + x_kn[0]\n",
    "    \n",
    "    An = (alpha * gamma - delta * beta) / (n * alpha - delta**2)\n",
    "    Bn = (n * beta - gamma * delta) / (n * alpha - delta**2)\n",
    "    Cn2 = np.sum(sig_kn[1:] + np.square(x_kn[1:]) + An**2 + Bn**2 * sig_kn[:n] + Bn**2 * np.square(x_kn[:n])\n",
    "                - 2 * An * x_kn[1:] + 2 * An * Bn * x_kn[:n] - 2 * Bn * sig_k1kn[1:] - 2 * Bn * x_kn[1:] * x_kn[:n]) / n\n",
    "    Dn2 = np.sum(np.square(y[:n+1]) - 2 * y[:n+1] * x_kn + sig_kn + np.square(x_kn)) / (n + 1)\n",
    "    return An, Bn, Cn2, Dn2"
   ]
  },
  {
   "cell_type": "code",
   "execution_count": null,
   "metadata": {
    "collapsed": false
   },
   "outputs": [
    {
     "name": "stdout",
     "output_type": "stream",
     "text": [
      "Iteration: 1: \n",
      "Iteration: 2: \n",
      "Iteration: 3: \n",
      "Iteration: 4: \n",
      "Iteration: 5: \n",
      "Iteration: 6: \n",
      "Iteration: 7: \n",
      "Iteration: 8: \n",
      "Iteration: 9: \n",
      "Iteration: 10: \n",
      "Iteration: 11: \n",
      "Iteration: 12: \n",
      "Iteration: 13: \n",
      "Iteration: 14: \n",
      "Iteration: 15: \n",
      "Iteration: 16: \n",
      "Iteration: 17: \n",
      "Iteration: 18: \n",
      "Iteration: 19: \n",
      "Iteration: 20: \n",
      "Iteration: 21: \n",
      "Iteration: 22: \n",
      "Iteration: 23: \n",
      "Iteration: 24: \n",
      "Iteration: 25: \n",
      "Iteration: 26: \n",
      "Iteration: 27: \n",
      "Iteration: 28: \n",
      "Iteration: 29: \n",
      "Iteration: 30: \n",
      "Iteration: 31: \n",
      "Iteration: 32: \n",
      "Iteration: 33: \n",
      "Iteration: 34: \n",
      "Iteration: 35: \n",
      "Iteration: 36: \n",
      "Iteration: 37: \n",
      "Iteration: 38: \n",
      "Iteration: 39: \n",
      "Iteration: 40: \n",
      "Iteration: 41: \n",
      "Iteration: 42: \n",
      "Iteration: 43: \n",
      "Iteration: 44: \n",
      "Iteration: 45: \n",
      "Iteration: 46: \n",
      "Iteration: 47: \n",
      "Iteration: 48: \n",
      "Iteration: 49: \n",
      "Iteration: 50: \n",
      "Iteration: 51: \n",
      "Iteration: 52: \n",
      "Iteration: 53: \n",
      "Iteration: 54: \n",
      "Iteration: 55: \n",
      "Iteration: 56: \n",
      "Iteration: 57: \n",
      "Iteration: 58: \n",
      "Iteration: 59: \n",
      "Iteration: 60: \n",
      "Iteration: 61: \n",
      "Iteration: 62: \n",
      "Iteration: 63: \n",
      "Iteration: 64: \n",
      "Iteration: 65: \n",
      "Iteration: 66: \n",
      "Iteration: 67: \n",
      "Iteration: 68: \n",
      "Iteration: 69: \n",
      "Iteration: 70: \n",
      "Iteration: 71: \n",
      "Iteration: 72: \n",
      "Iteration: 73: \n",
      "Iteration: 74: \n",
      "Iteration: 75: \n",
      "Iteration: 76: \n",
      "Iteration: 77: \n",
      "Iteration: 78: \n",
      "Iteration: 79: \n",
      "Iteration: 80: \n",
      "Iteration: 81: \n",
      "Iteration: 82: \n",
      "Iteration: 83: \n",
      "Iteration: 84: \n",
      "Iteration: 85: \n",
      "Iteration: 86: \n",
      "Iteration: 87: \n",
      "Iteration: 88: \n",
      "Iteration: 89: \n",
      "Iteration: 90: \n",
      "Iteration: 91: \n",
      "Iteration: 92: \n",
      "Iteration: 93: \n",
      "Iteration: 94: \n",
      "Iteration: 95: \n",
      "Iteration: 96: \n",
      "Iteration: 97: \n",
      "Iteration: 98: \n",
      "Iteration: 99: \n",
      "Iteration: 100: \n",
      "Iteration: 101: \n",
      "Iteration: 102: \n",
      "Iteration: 103: \n",
      "Iteration: 104: \n",
      "Iteration: 105: \n",
      "Iteration: 106: \n",
      "Iteration: 107: \n",
      "Iteration: 108: \n",
      "Iteration: 109: \n",
      "Iteration: 110: \n",
      "Iteration: 111: \n",
      "Iteration: 112: \n",
      "Iteration: 113: \n",
      "Iteration: 114: \n",
      "Iteration: 115: \n",
      "Iteration: 116: \n",
      "Iteration: 117: \n",
      "Iteration: 118: \n",
      "Iteration: 119: \n",
      "Iteration: 120: \n",
      "Iteration: 121: \n",
      "Iteration: 122: \n",
      "Iteration: 123: \n",
      "Iteration: 124: \n",
      "Iteration: 125: \n",
      "Iteration: 126: \n",
      "Iteration: 127: \n",
      "Iteration: 128: \n",
      "Iteration: 129: \n",
      "Iteration: 130: \n",
      "Iteration: 131: \n",
      "Iteration: 132: \n",
      "Iteration: 133: \n",
      "Iteration: 134: \n",
      "Iteration: 135: \n",
      "Iteration: 136: \n",
      "Iteration: 137: \n",
      "Iteration: 138: \n",
      "Iteration: 139: \n",
      "Iteration: 140: \n",
      "Iteration: 141: \n",
      "Iteration: 142: \n",
      "Iteration: 143: \n",
      "Iteration: 144: \n",
      "Iteration: 145: \n",
      "Iteration: 146: \n",
      "Iteration: 147: \n",
      "Iteration: 148: \n",
      "Iteration: 149: \n",
      "Iteration: 150: \n",
      "Iteration: 151: \n",
      "Iteration: 152: \n",
      "Iteration: 153: \n",
      "Iteration: 154: \n",
      "Iteration: 155: \n",
      "Iteration: 156: \n",
      "Iteration: 157: \n",
      "Iteration: 158: \n",
      "Iteration: 159: \n",
      "Iteration: 160: \n",
      "Iteration: 161: \n",
      "Iteration: 162: \n",
      "Iteration: 163: \n",
      "Iteration: 164: \n",
      "Iteration: 165: \n",
      "Iteration: 166: \n",
      "Iteration: 167: \n",
      "Iteration: 168: \n",
      "Iteration: 169: \n",
      "Iteration: 170: \n",
      "Iteration: 171: \n",
      "Iteration: 172: \n",
      "Iteration: 173: \n",
      "Iteration: 174: \n",
      "Iteration: 175: \n",
      "Iteration: 176: \n",
      "Iteration: 177: \n",
      "Iteration: 178: \n",
      "Iteration: 179: \n",
      "Iteration: 180: \n",
      "Iteration: 181: \n",
      "Iteration: 182: \n",
      "Iteration: 183: \n",
      "Iteration: 184: \n",
      "Iteration: 185: \n",
      "Iteration: 186: \n",
      "Iteration: 187: \n",
      "Iteration: 188: \n",
      "Iteration: 189: \n",
      "Iteration: 190: \n",
      "Iteration: 191: \n",
      "Iteration: 192: \n",
      "Iteration: 193: \n",
      "Iteration: 194: \n",
      "Iteration: 195: \n",
      "Iteration: 196: \n",
      "Iteration: 197: \n",
      "Iteration: 198: \n",
      "Iteration: 199: \n",
      "Iteration: 200: \n",
      "Iteration: 201: \n",
      "Iteration: 202: \n",
      "Iteration: 203: \n",
      "Iteration: 204: \n",
      "Iteration: 205: \n",
      "Iteration: 206: \n",
      "Iteration: 207: \n",
      "Iteration: 208: \n",
      "Iteration: 209: \n",
      "Iteration: 210: \n",
      "Iteration: 211: \n",
      "Iteration: 212: \n",
      "Iteration: 213: \n",
      "Iteration: 214: \n",
      "Iteration: 215: \n",
      "Iteration: 216: \n",
      "Iteration: 217: \n",
      "Iteration: 218: \n",
      "Iteration: 219: \n",
      "Iteration: 220: \n",
      "Iteration: 221: \n",
      "Iteration: 222: \n",
      "Iteration: 223: \n",
      "Iteration: 224: \n",
      "Iteration: 225: \n",
      "Iteration: 226: \n",
      "Iteration: 227: \n",
      "Iteration: 228: \n",
      "Iteration: 229: \n",
      "Iteration: 230: \n",
      "Iteration: 231: \n",
      "Iteration: 232: \n",
      "Iteration: 233: \n",
      "Iteration: 234: \n",
      "Iteration: 235: \n",
      "Iteration: 236: \n",
      "Iteration: 237: \n",
      "Iteration: 238: \n",
      "Iteration: 239: \n",
      "Iteration: 240: \n",
      "Iteration: 241: \n",
      "Iteration: 242: \n",
      "Iteration: 243: \n",
      "Iteration: 244: \n",
      "Iteration: 245: \n",
      "Iteration: 246: \n",
      "Iteration: 247: \n",
      "Iteration: 248: \n",
      "Iteration: 249: \n",
      "Iteration: 250: \n",
      "Iteration: 251: \n",
      "Iteration: 252: \n",
      "Iteration: 253: \n",
      "Iteration: 254: \n",
      "Iteration: 255: \n",
      "Iteration: 256: \n",
      "Iteration: 257: \n",
      "Iteration: 258: \n",
      "Iteration: 259: \n",
      "Iteration: 260: \n",
      "Iteration: 261: \n",
      "Iteration: 262: \n",
      "Iteration: 263: \n"
     ]
    }
   ],
   "source": [
    "mu = np.mean(y)\n",
    "sig = np.std(y)\n",
    "B = 0.8\n",
    "A = mu * (1 - B)\n",
    "C2 = sig**2 * (1 - B**2)\n",
    "D2 = C2\n",
    "i = 1\n",
    "while(True):\n",
    "    if i % 1000 == 1:\n",
    "        print(\"Iteration: %d: \" % (int(i/1000) + 1))\n",
    "    An, Bn, Cn2, Dn2 = param_update(A, B, C2, D2)\n",
    "    if abs((An - A) / A) < 0.1 and abs((Bn - B) / B) < 0.1 and abs((Cn2 - C2) / C2) < 0.1 and abs((Dn2 - D2) / D2) < 0.1:\n",
    "        break\n",
    "    i += 1"
   ]
  },
  {
   "cell_type": "code",
   "execution_count": 85,
   "metadata": {
    "collapsed": false
   },
   "outputs": [
    {
     "name": "stdout",
     "output_type": "stream",
     "text": [
      "-0.0898723652039 0.992994194878 2.34123233394 0.973948241913\n"
     ]
    }
   ],
   "source": [
    "print(An, Bn, Cn2, Dn2)"
   ]
  },
  {
   "cell_type": "code",
   "execution_count": 86,
   "metadata": {
    "collapsed": false
   },
   "outputs": [
    {
     "name": "stdout",
     "output_type": "stream",
     "text": [
      "-2.14769511594 0.8 59.956295334 1\n"
     ]
    }
   ],
   "source": [
    "print(A, B, C2, D2)"
   ]
  },
  {
   "cell_type": "code",
   "execution_count": 67,
   "metadata": {
    "collapsed": false
   },
   "outputs": [
    {
     "data": {
      "text/plain": [
       "166.5452648167807"
      ]
     },
     "execution_count": 67,
     "metadata": {},
     "output_type": "execute_result"
    }
   ],
   "source": [
    "s**2"
   ]
  },
  {
   "cell_type": "code",
   "execution_count": null,
   "metadata": {
    "collapsed": true
   },
   "outputs": [],
   "source": []
  }
 ],
 "metadata": {
  "anaconda-cloud": {},
  "kernelspec": {
   "display_name": "Python 3",
   "language": "python",
   "name": "python3"
  },
  "language_info": {
   "codemirror_mode": {
    "name": "ipython",
    "version": 3
   },
   "file_extension": ".py",
   "mimetype": "text/x-python",
   "name": "python",
   "nbconvert_exporter": "python",
   "pygments_lexer": "ipython3",
   "version": "3.6.5"
  }
 },
 "nbformat": 4,
 "nbformat_minor": 2
}
